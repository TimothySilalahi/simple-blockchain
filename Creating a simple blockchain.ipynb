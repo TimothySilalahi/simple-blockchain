{
 "cells": [
  {
   "cell_type": "code",
   "execution_count": null,
   "id": "eee68e9c",
   "metadata": {},
   "outputs": [],
   "source": [
    "'''This Simple Blockchain can be run through a Postman Agent'''\n",
    "# Import the necessary frameworks and library\n",
    "import datetime\n",
    "import hashlib\n",
    "import json\n",
    "from flask import Flask, jsonify"
   ]
  },
  {
   "cell_type": "code",
   "execution_count": null,
   "id": "eaa52ab8",
   "metadata": {},
   "outputs": [],
   "source": [
    "# Create a blockchain class\n",
    "# Building a blockchain\n",
    "class Blockchain:\n",
    "    def __init__(self):\n",
    "        self.chain = []\n",
    "        self.create_block(proof=1, previous_hash='0')\n",
    "\n",
    "    def create_block(self,proof,previous_hash):\n",
    "        block = {'index':len(self.chain)+1,\n",
    "                 'timestamp': str(datetime.datetime.now()),\n",
    "                 'proof':proof,\n",
    "                 'previous_hash':previous_hash}\n",
    "        self.chain.append(block)\n",
    "        return block\n",
    "\n",
    "    def get_previous_block(self):\n",
    "        return self.chain[-1]\n",
    "\n",
    "    def proof_of_work(self, previous_proof):\n",
    "        new_proof = 1\n",
    "        check_proof = False\n",
    "        while check_proof is False:\n",
    "            hash_operation = hashlib.sha256(str(new_proof**2 - previous_proof**2).encode()).hexdigest()\n",
    "            if hash_operation[:4] == \"0000\":\n",
    "                check_proof = True\n",
    "            else:\n",
    "                new_proof += 1\n",
    "        return new_proof\n",
    "\n",
    "    def hash(self, block):\n",
    "        encoded_block = json.dumps(block, sort_keys=True).encode()\n",
    "        return hashlib.sha256(encoded_block).hexdigest()\n",
    "\n",
    "    def is_chain_valid(self, chain):\n",
    "        previous_block = chain[0]\n",
    "        block_index = 1\n",
    "        while block_index < len(chain):\n",
    "            block = chain[block_index]\n",
    "            if block['previous_hash'] != self.hash(previous_block):\n",
    "                return False\n",
    "            previous_proof = previous_block['proof']\n",
    "            proof = block['proof']\n",
    "            hash_operation = hashlib.sha256(str(proof ** 2 - previous_proof ** 2).encode()).hexdigest()\n",
    "            if hash_operation[:4] != '0000':\n",
    "                return False\n",
    "            previous_block = block\n",
    "            block_index += 1\n",
    "        return True"
   ]
  },
  {
   "cell_type": "code",
   "execution_count": null,
   "id": "ba676584",
   "metadata": {},
   "outputs": [],
   "source": [
    "#Mining a blockchain\n",
    "##creating web app\n",
    "app = Flask(__name__)"
   ]
  },
  {
   "cell_type": "code",
   "execution_count": null,
   "id": "13fc9659",
   "metadata": {},
   "outputs": [],
   "source": [
    "##initiating a blockchain\n",
    "blockchain = Blockchain()"
   ]
  },
  {
   "cell_type": "code",
   "execution_count": null,
   "id": "d9f53134",
   "metadata": {},
   "outputs": [],
   "source": [
    "# mine a block\n",
    "@app.route('/mine_block', methods=['GET'])\n",
    "def mine_block():\n",
    "    previous_block = blockchain.get_previous_block()\n",
    "    previous_proof = previous_block['proof']\n",
    "\n",
    "    proof = blockchain.proof_of_work(previous_proof)\n",
    "    previous_hash = blockchain.hash(previous_block)\n",
    "    block = blockchain.create_block(proof,previous_hash)\n",
    "    response = {'message':'Congratulations, you just mined a block!',\n",
    "                'index':block['index'],\n",
    "                'timestamp':block['timestamp'],\n",
    "                'proof':block['proof'],\n",
    "                'previous_hash':block['previous_hash']}\n",
    "    return jsonify(response), 200"
   ]
  },
  {
   "cell_type": "code",
   "execution_count": null,
   "id": "bd494ea8",
   "metadata": {},
   "outputs": [],
   "source": [
    "# Getting the full Blockchain\n",
    "@app.route('/get_chain', methods=['GET'])\n",
    "def get_chain():\n",
    "    response = {'chain_key':blockchain.chain,\n",
    "                'length':len(blockchain.chain)}\n",
    "    return jsonify(response), 200"
   ]
  },
  {
   "cell_type": "code",
   "execution_count": null,
   "id": "da9d6b99",
   "metadata": {},
   "outputs": [],
   "source": [
    "# check if blockchain is valid\n",
    "@app.route('/is_valid', methods=['GET'])\n",
    "def is_valid():\n",
    "    validity = blockchain.is_chain_valid(blockchain.chain)\n",
    "    if validity:\n",
    "        response = {'message':'All good, the Blockchain is valid.'}\n",
    "    else:\n",
    "        response = {'message':'Houston we have a problem, the Blockchain is corrupted.'}\n",
    "    return jsonify(response),200"
   ]
  },
  {
   "cell_type": "code",
   "execution_count": null,
   "id": "d672e101",
   "metadata": {
    "scrolled": true
   },
   "outputs": [],
   "source": [
    "# Running The App\n",
    "app.run(port=5000,host='0.0.0.0')"
   ]
  },
  {
   "cell_type": "code",
   "execution_count": null,
   "id": "5d6316fb",
   "metadata": {},
   "outputs": [],
   "source": [
    "'''To Run The App.\n",
    "1. Run all the code blocks above\n",
    "2. Open postman agent\n",
    "3. Create a workspace\n",
    "4. In the Requests box, connect to the flask app by entering 'http://127.0.0.1:5000/'\n",
    "5. To start, you might want to see the whole chain first by entering 'http://127.0.0.1:5000/get_chain'\n",
    "6. After that you can also mine a block 'http://127.0.0.1:5000/mine_block'\n",
    "7. and also check if the blockchain is valid 'http://127.0.0.1:5000/is_valid'\n",
    "'''"
   ]
  },
  {
   "cell_type": "code",
   "execution_count": null,
   "id": "59130d22",
   "metadata": {},
   "outputs": [],
   "source": []
  }
 ],
 "metadata": {
  "kernelspec": {
   "display_name": "Python 3",
   "language": "python",
   "name": "python3"
  },
  "language_info": {
   "codemirror_mode": {
    "name": "ipython",
    "version": 3
   },
   "file_extension": ".py",
   "mimetype": "text/x-python",
   "name": "python",
   "nbconvert_exporter": "python",
   "pygments_lexer": "ipython3",
   "version": "3.8.8"
  }
 },
 "nbformat": 4,
 "nbformat_minor": 5
}
